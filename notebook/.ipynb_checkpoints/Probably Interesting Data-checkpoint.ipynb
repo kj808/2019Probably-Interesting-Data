{
 "cells": [
  {
   "cell_type": "markdown",
   "metadata": {},
   "source": [
    "# Probably Interesting Data\n",
    "In order to understand our datasets and pick the best fitting algorithms, we must determine the estimated density. In this notebook, I use two different datasets as well as kmeans and expectation maximization to better derive possibilities. \n",
    "\n",
    "#### Data Sets\n",
    "1. Prima Indians Diabetes\n",
    "  * Includes nine columns of possible features. Most are continuous but a few discrete variables exist.\n",
    "2. Mushroom Classification\n",
    "  * This...."
   ]
  },
  {
   "cell_type": "code",
   "execution_count": 1,
   "metadata": {},
   "outputs": [],
   "source": [
    "import pandas as pd\n",
    "import numpy as np\n",
    "from sklearn import preprocessing as pr"
   ]
  },
  {
   "cell_type": "code",
   "execution_count": 2,
   "metadata": {},
   "outputs": [],
   "source": [
    "# %load ../libraries/kmeans.py\n",
    "#Assign ALL points to closest centroid     \n",
    "def assign(data,centroids):\n",
    "    print(\"----ASSIGN----\")\n",
    "    #for all points\n",
    "    for point in data:\n",
    "        #create an array with all the distances from the point to the centroids\n",
    "        dist=np.sqrt(np.sum((point[1:]-centroids)**2, axis=1))\n",
    "        #Grab the centorid that's closest\n",
    "        cluster=np.argmin(dist)    \n",
    "        #Record the closest centroid cluster\n",
    "        point[0]=cluster\n",
    "    \n",
    "    \n",
    "def update(data,centroids):\n",
    "    print(\"----UPDATE----\")\n",
    "    change=False\n",
    "    #Calculate the totals for each different clusters\n",
    "    for i in range(len(centroids)):\n",
    "        filtered=data[data[:,0]==i]\n",
    "        item=np.mean(filtered[:,1:], axis=0)\n",
    "        #If there was a change\n",
    "        if not np.array_equal(centroids[int(i)],item) and not np.isnan(item).any():\n",
    "            centroids[int(i)]=item\n",
    "            change=True\n",
    "    #Check if centroid already located in calculated spot\n",
    "    if change==True:\n",
    "        return True\n",
    "    else: #keep going!\n",
    "        return False\n",
    "\n",
    "    \n",
    "def kmean(data, k):\n",
    "    import random\n",
    "    #Create column representing clusters to the data\n",
    "    clusterlist = np.zeros((1,(len(data))))\n",
    "    newdata=np.append(arr=clusterlist.T,values=data, axis=1)\n",
    "    \n",
    "    #Create the list of centroids with random starting locations\n",
    "    columns=len(data[0])\n",
    "    cents=k\n",
    "    centroids = np.random.rand(cents,columns)\n",
    "       \n",
    "    #Start assigning the points to clusters\n",
    "    #Keeps track of when to stop\n",
    "    changed=True\n",
    "    while changed==True:\n",
    "        assign(newdata, centroids)\n",
    "        changed=update(newdata, centroids)\n",
    "    \n",
    "    return (newdata,centroids)\n",
    "    "
   ]
  },
  {
   "cell_type": "code",
   "execution_count": 3,
   "metadata": {},
   "outputs": [
    {
     "data": {
      "text/html": [
       "<div>\n",
       "<style scoped>\n",
       "    .dataframe tbody tr th:only-of-type {\n",
       "        vertical-align: middle;\n",
       "    }\n",
       "\n",
       "    .dataframe tbody tr th {\n",
       "        vertical-align: top;\n",
       "    }\n",
       "\n",
       "    .dataframe thead th {\n",
       "        text-align: right;\n",
       "    }\n",
       "</style>\n",
       "<table border=\"1\" class=\"dataframe\">\n",
       "  <thead>\n",
       "    <tr style=\"text-align: right;\">\n",
       "      <th></th>\n",
       "      <th>Pregnancies</th>\n",
       "      <th>Glucose</th>\n",
       "      <th>BloodPressure</th>\n",
       "      <th>SkinThickness</th>\n",
       "      <th>Insulin</th>\n",
       "      <th>BMI</th>\n",
       "      <th>DiabetesPedigreeFunction</th>\n",
       "      <th>Age</th>\n",
       "      <th>Outcome</th>\n",
       "    </tr>\n",
       "  </thead>\n",
       "  <tbody>\n",
       "    <tr>\n",
       "      <th>0</th>\n",
       "      <td>6</td>\n",
       "      <td>148</td>\n",
       "      <td>72</td>\n",
       "      <td>35</td>\n",
       "      <td>0</td>\n",
       "      <td>33.6</td>\n",
       "      <td>0.627</td>\n",
       "      <td>50</td>\n",
       "      <td>1</td>\n",
       "    </tr>\n",
       "    <tr>\n",
       "      <th>1</th>\n",
       "      <td>1</td>\n",
       "      <td>85</td>\n",
       "      <td>66</td>\n",
       "      <td>29</td>\n",
       "      <td>0</td>\n",
       "      <td>26.6</td>\n",
       "      <td>0.351</td>\n",
       "      <td>31</td>\n",
       "      <td>0</td>\n",
       "    </tr>\n",
       "    <tr>\n",
       "      <th>2</th>\n",
       "      <td>8</td>\n",
       "      <td>183</td>\n",
       "      <td>64</td>\n",
       "      <td>0</td>\n",
       "      <td>0</td>\n",
       "      <td>23.3</td>\n",
       "      <td>0.672</td>\n",
       "      <td>32</td>\n",
       "      <td>1</td>\n",
       "    </tr>\n",
       "    <tr>\n",
       "      <th>3</th>\n",
       "      <td>1</td>\n",
       "      <td>89</td>\n",
       "      <td>66</td>\n",
       "      <td>23</td>\n",
       "      <td>94</td>\n",
       "      <td>28.1</td>\n",
       "      <td>0.167</td>\n",
       "      <td>21</td>\n",
       "      <td>0</td>\n",
       "    </tr>\n",
       "    <tr>\n",
       "      <th>4</th>\n",
       "      <td>0</td>\n",
       "      <td>137</td>\n",
       "      <td>40</td>\n",
       "      <td>35</td>\n",
       "      <td>168</td>\n",
       "      <td>43.1</td>\n",
       "      <td>2.288</td>\n",
       "      <td>33</td>\n",
       "      <td>1</td>\n",
       "    </tr>\n",
       "  </tbody>\n",
       "</table>\n",
       "</div>"
      ],
      "text/plain": [
       "   Pregnancies  Glucose  BloodPressure  SkinThickness  Insulin   BMI  \\\n",
       "0            6      148             72             35        0  33.6   \n",
       "1            1       85             66             29        0  26.6   \n",
       "2            8      183             64              0        0  23.3   \n",
       "3            1       89             66             23       94  28.1   \n",
       "4            0      137             40             35      168  43.1   \n",
       "\n",
       "   DiabetesPedigreeFunction  Age  Outcome  \n",
       "0                     0.627   50        1  \n",
       "1                     0.351   31        0  \n",
       "2                     0.672   32        1  \n",
       "3                     0.167   21        0  \n",
       "4                     2.288   33        1  "
      ]
     },
     "execution_count": 3,
     "metadata": {},
     "output_type": "execute_result"
    }
   ],
   "source": [
    "#Import dataset\n",
    "diabetes=pd.read_csv('../data/external/diabetes.csv')\n",
    "diabetes.head()"
   ]
  },
  {
   "cell_type": "code",
   "execution_count": 4,
   "metadata": {},
   "outputs": [],
   "source": [
    "#Due to all of the differing scales and the statistics between k-means, must normalize the interesting data\n",
    "#Source: https://stackoverflow.com/questions/26414913/normalize-columns-of-pandas-data-frame\n",
    "diabetescol=list(diabetes)\n",
    "data=diabetes.values\n",
    "min_max_scaler = pr.MinMaxScaler()\n",
    "x_scaled = min_max_scaler.fit_transform(data)\n",
    "diabetes = pd.DataFrame(columns=diabetescol,data=x_scaled)"
   ]
  },
  {
   "cell_type": "code",
   "execution_count": 5,
   "metadata": {},
   "outputs": [
    {
     "data": {
      "text/plain": [
       "<matplotlib.axes._subplots.AxesSubplot at 0x23482ffb390>"
      ]
     },
     "execution_count": 5,
     "metadata": {},
     "output_type": "execute_result"
    }
   ],
   "source": [
    "#Implement quick histogram to better understand limit balance\n",
    "diabetes.hist(bins=10)\n",
    "diabetes.hist(bins=20)\n",
    "#focus=diabetes.loc[:,['BMI', 'DiabetesPedigreeFunction','Glucose','BloodPressure']]\n",
    "diabetes.plot.hist(stacked=True,bins=20)"
   ]
  },
  {
   "cell_type": "markdown",
   "metadata": {},
   "source": [
    "## Quick Analysis\n",
    "In these quick binnings, notice the different bins and values. Some values like age, diabetes pedigree function, and pregnancies represent a graduate exponential slope unlike insulin and skin thickness which is a quick drop. In order to represent interesting columns, we can create soft clusters. Interesting features: BMI, Diabetes Pedigree Function and Glucose and Blood Pressure will be viewed. "
   ]
  },
  {
   "cell_type": "code",
   "execution_count": 6,
   "metadata": {},
   "outputs": [
    {
     "name": "stdout",
     "output_type": "stream",
     "text": [
      "[[0.35294118 0.74371859 0.59016393 ... 0.23441503 0.48333333 1.        ]\n",
      " [0.05882353 0.42713568 0.54098361 ... 0.11656704 0.16666667 0.        ]\n",
      " [0.47058824 0.91959799 0.52459016 ... 0.25362938 0.18333333 1.        ]\n",
      " ...\n",
      " [0.29411765 0.6080402  0.59016393 ... 0.07130658 0.15       0.        ]\n",
      " [0.05882353 0.63316583 0.49180328 ... 0.11571307 0.43333333 1.        ]\n",
      " [0.05882353 0.46733668 0.57377049 ... 0.10119556 0.03333333 0.        ]]\n"
     ]
    }
   ],
   "source": [
    "checknum=diabetes.values\n",
    "print(checknum)"
   ]
  },
  {
   "cell_type": "code",
   "execution_count": 7,
   "metadata": {},
   "outputs": [
    {
     "name": "stdout",
     "output_type": "stream",
     "text": [
      "----ASSIGN----\n",
      "----UPDATE----\n",
      "----ASSIGN----\n",
      "----UPDATE----\n",
      "----ASSIGN----\n",
      "----UPDATE----\n",
      "----ASSIGN----\n",
      "----UPDATE----\n",
      "----ASSIGN----\n",
      "----UPDATE----\n",
      "----ASSIGN----\n",
      "----UPDATE----\n",
      "----ASSIGN----\n",
      "----UPDATE----\n",
      "----ASSIGN----\n",
      "----UPDATE----\n",
      "----ASSIGN----\n",
      "----UPDATE----\n",
      "----ASSIGN----\n",
      "----UPDATE----\n",
      "----ASSIGN----\n",
      "----UPDATE----\n",
      "----ASSIGN----\n",
      "----UPDATE----\n",
      "----ASSIGN----\n",
      "----UPDATE----\n",
      "----ASSIGN----\n",
      "----UPDATE----\n",
      "----ASSIGN----\n",
      "----UPDATE----\n"
     ]
    }
   ],
   "source": [
    "k=3\n",
    "sometup=kmean(checknum, k)"
   ]
  },
  {
   "cell_type": "code",
   "execution_count": 8,
   "metadata": {},
   "outputs": [
    {
     "name": "stdout",
     "output_type": "stream",
     "text": [
      "(array([[0.        , 0.35294118, 0.74371859, ..., 0.23441503, 0.48333333,\n",
      "        1.        ],\n",
      "       [1.        , 0.05882353, 0.42713568, ..., 0.11656704, 0.16666667,\n",
      "        0.        ],\n",
      "       [0.        , 0.47058824, 0.91959799, ..., 0.25362938, 0.18333333,\n",
      "        1.        ],\n",
      "       ...,\n",
      "       [1.        , 0.29411765, 0.6080402 , ..., 0.07130658, 0.15      ,\n",
      "        0.        ],\n",
      "       [0.        , 0.05882353, 0.63316583, ..., 0.11571307, 0.43333333,\n",
      "        1.        ],\n",
      "       [1.        , 0.05882353, 0.46733668, ..., 0.10119556, 0.03333333,\n",
      "        0.        ]]), array([[0.28621598, 0.7098365 , 0.58052973, 0.2238806 , 0.11860026,\n",
      "        0.52373379, 0.20175064, 0.26778607, 1.        ],\n",
      "       [0.11892583, 0.53710127, 0.53672933, 0.2156895 , 0.09319432,\n",
      "        0.45049974, 0.1521043 , 0.07586051, 0.        ],\n",
      "       [0.40329768, 0.59604842, 0.62065325, 0.15105601, 0.04819471,\n",
      "        0.45477126, 0.14483542, 0.43181818, 0.        ]]))\n",
      "[[0.         0.35294118 0.74371859 ... 0.23441503 0.48333333 1.        ]\n",
      " [1.         0.05882353 0.42713568 ... 0.11656704 0.16666667 0.        ]\n",
      " [0.         0.47058824 0.91959799 ... 0.25362938 0.18333333 1.        ]\n",
      " ...\n",
      " [1.         0.29411765 0.6080402  ... 0.07130658 0.15       0.        ]\n",
      " [0.         0.05882353 0.63316583 ... 0.11571307 0.43333333 1.        ]\n",
      " [1.         0.05882353 0.46733668 ... 0.10119556 0.03333333 0.        ]]\n",
      "[[0.28621598 0.7098365  0.58052973 0.2238806  0.11860026 0.52373379\n",
      "  0.20175064 0.26778607 1.        ]\n",
      " [0.11892583 0.53710127 0.53672933 0.2156895  0.09319432 0.45049974\n",
      "  0.1521043  0.07586051 0.        ]\n",
      " [0.40329768 0.59604842 0.62065325 0.15105601 0.04819471 0.45477126\n",
      "  0.14483542 0.43181818 0.        ]]\n"
     ]
    }
   ],
   "source": [
    "print(sometup)\n",
    "print(sometup[0])\n",
    "print(sometup[1])"
   ]
  },
  {
   "cell_type": "code",
   "execution_count": 9,
   "metadata": {},
   "outputs": [
    {
     "data": {
      "text/html": [
       "<div>\n",
       "<style scoped>\n",
       "    .dataframe tbody tr th:only-of-type {\n",
       "        vertical-align: middle;\n",
       "    }\n",
       "\n",
       "    .dataframe tbody tr th {\n",
       "        vertical-align: top;\n",
       "    }\n",
       "\n",
       "    .dataframe thead th {\n",
       "        text-align: right;\n",
       "    }\n",
       "</style>\n",
       "<table border=\"1\" class=\"dataframe\">\n",
       "  <thead>\n",
       "    <tr style=\"text-align: right;\">\n",
       "      <th></th>\n",
       "      <th>Cluster</th>\n",
       "      <th>Pregnancies</th>\n",
       "      <th>Glucose</th>\n",
       "      <th>BloodPressure</th>\n",
       "      <th>SkinThickness</th>\n",
       "      <th>Insulin</th>\n",
       "      <th>BMI</th>\n",
       "      <th>DiabetesPedigreeFunction</th>\n",
       "      <th>Age</th>\n",
       "      <th>Outcome</th>\n",
       "    </tr>\n",
       "  </thead>\n",
       "  <tbody>\n",
       "    <tr>\n",
       "      <th>0</th>\n",
       "      <td>0.0</td>\n",
       "      <td>0.352941</td>\n",
       "      <td>0.743719</td>\n",
       "      <td>0.590164</td>\n",
       "      <td>0.353535</td>\n",
       "      <td>0.000000</td>\n",
       "      <td>0.500745</td>\n",
       "      <td>0.234415</td>\n",
       "      <td>0.483333</td>\n",
       "      <td>1.0</td>\n",
       "    </tr>\n",
       "    <tr>\n",
       "      <th>1</th>\n",
       "      <td>1.0</td>\n",
       "      <td>0.058824</td>\n",
       "      <td>0.427136</td>\n",
       "      <td>0.540984</td>\n",
       "      <td>0.292929</td>\n",
       "      <td>0.000000</td>\n",
       "      <td>0.396423</td>\n",
       "      <td>0.116567</td>\n",
       "      <td>0.166667</td>\n",
       "      <td>0.0</td>\n",
       "    </tr>\n",
       "    <tr>\n",
       "      <th>2</th>\n",
       "      <td>0.0</td>\n",
       "      <td>0.470588</td>\n",
       "      <td>0.919598</td>\n",
       "      <td>0.524590</td>\n",
       "      <td>0.000000</td>\n",
       "      <td>0.000000</td>\n",
       "      <td>0.347243</td>\n",
       "      <td>0.253629</td>\n",
       "      <td>0.183333</td>\n",
       "      <td>1.0</td>\n",
       "    </tr>\n",
       "    <tr>\n",
       "      <th>3</th>\n",
       "      <td>1.0</td>\n",
       "      <td>0.058824</td>\n",
       "      <td>0.447236</td>\n",
       "      <td>0.540984</td>\n",
       "      <td>0.232323</td>\n",
       "      <td>0.111111</td>\n",
       "      <td>0.418778</td>\n",
       "      <td>0.038002</td>\n",
       "      <td>0.000000</td>\n",
       "      <td>0.0</td>\n",
       "    </tr>\n",
       "    <tr>\n",
       "      <th>4</th>\n",
       "      <td>0.0</td>\n",
       "      <td>0.000000</td>\n",
       "      <td>0.688442</td>\n",
       "      <td>0.327869</td>\n",
       "      <td>0.353535</td>\n",
       "      <td>0.198582</td>\n",
       "      <td>0.642325</td>\n",
       "      <td>0.943638</td>\n",
       "      <td>0.200000</td>\n",
       "      <td>1.0</td>\n",
       "    </tr>\n",
       "  </tbody>\n",
       "</table>\n",
       "</div>"
      ],
      "text/plain": [
       "   Cluster  Pregnancies   Glucose  BloodPressure  SkinThickness   Insulin  \\\n",
       "0      0.0     0.352941  0.743719       0.590164       0.353535  0.000000   \n",
       "1      1.0     0.058824  0.427136       0.540984       0.292929  0.000000   \n",
       "2      0.0     0.470588  0.919598       0.524590       0.000000  0.000000   \n",
       "3      1.0     0.058824  0.447236       0.540984       0.232323  0.111111   \n",
       "4      0.0     0.000000  0.688442       0.327869       0.353535  0.198582   \n",
       "\n",
       "        BMI  DiabetesPedigreeFunction       Age  Outcome  \n",
       "0  0.500745                  0.234415  0.483333      1.0  \n",
       "1  0.396423                  0.116567  0.166667      0.0  \n",
       "2  0.347243                  0.253629  0.183333      1.0  \n",
       "3  0.418778                  0.038002  0.000000      0.0  \n",
       "4  0.642325                  0.943638  0.200000      1.0  "
      ]
     },
     "execution_count": 9,
     "metadata": {},
     "output_type": "execute_result"
    }
   ],
   "source": [
    "newcol=['Cluster'] + diabetescol\n",
    "newdatasets = pd.DataFrame(columns=newcol,data=sometup[0])\n",
    "newdatasets.head()"
   ]
  },
  {
   "cell_type": "code",
   "execution_count": 10,
   "metadata": {},
   "outputs": [
    {
     "data": {
      "text/plain": [
       "<matplotlib.axes._subplots.AxesSubplot at 0x2348379ed30>"
      ]
     },
     "execution_count": 10,
     "metadata": {},
     "output_type": "execute_result"
    },
    {
     "data": {
      "image/png": "[encoded data removed]",
      "text/plain": [
       "<Figure size 432x288 with 2 Axes>"
      ]
     },
     "metadata": {},
     "output_type": "display_data"
    }
   ],
   "source": [
    "newdatasets.plot.scatter(x='Age', y='DiabetesPedigreeFunction', c='Cluster')"
   ]
  },
  {
   "cell_type": "code",
   "execution_count": 11,
   "metadata": {},
   "outputs": [
    {
     "data": {
      "text/html": [
       "<div>\n",
       "<style scoped>\n",
       "    .dataframe tbody tr th:only-of-type {\n",
       "        vertical-align: middle;\n",
       "    }\n",
       "\n",
       "    .dataframe tbody tr th {\n",
       "        vertical-align: top;\n",
       "    }\n",
       "\n",
       "    .dataframe thead th {\n",
       "        text-align: right;\n",
       "    }\n",
       "</style>\n",
       "<table border=\"1\" class=\"dataframe\">\n",
       "  <thead>\n",
       "    <tr style=\"text-align: right;\">\n",
       "      <th></th>\n",
       "      <th>Pregnancies</th>\n",
       "      <th>Glucose</th>\n",
       "      <th>BloodPressure</th>\n",
       "      <th>SkinThickness</th>\n",
       "      <th>Insulin</th>\n",
       "      <th>BMI</th>\n",
       "      <th>DiabetesPedigreeFunction</th>\n",
       "      <th>Age</th>\n",
       "      <th>Outcome</th>\n",
       "    </tr>\n",
       "  </thead>\n",
       "  <tbody>\n",
       "    <tr>\n",
       "      <th>0</th>\n",
       "      <td>0.286216</td>\n",
       "      <td>0.709836</td>\n",
       "      <td>0.580530</td>\n",
       "      <td>0.223881</td>\n",
       "      <td>0.118600</td>\n",
       "      <td>0.523734</td>\n",
       "      <td>0.201751</td>\n",
       "      <td>0.267786</td>\n",
       "      <td>1.0</td>\n",
       "    </tr>\n",
       "    <tr>\n",
       "      <th>1</th>\n",
       "      <td>0.118926</td>\n",
       "      <td>0.537101</td>\n",
       "      <td>0.536729</td>\n",
       "      <td>0.215690</td>\n",
       "      <td>0.093194</td>\n",
       "      <td>0.450500</td>\n",
       "      <td>0.152104</td>\n",
       "      <td>0.075861</td>\n",
       "      <td>0.0</td>\n",
       "    </tr>\n",
       "    <tr>\n",
       "      <th>2</th>\n",
       "      <td>0.403298</td>\n",
       "      <td>0.596048</td>\n",
       "      <td>0.620653</td>\n",
       "      <td>0.151056</td>\n",
       "      <td>0.048195</td>\n",
       "      <td>0.454771</td>\n",
       "      <td>0.144835</td>\n",
       "      <td>0.431818</td>\n",
       "      <td>0.0</td>\n",
       "    </tr>\n",
       "  </tbody>\n",
       "</table>\n",
       "</div>"
      ],
      "text/plain": [
       "   Pregnancies   Glucose  BloodPressure  SkinThickness   Insulin       BMI  \\\n",
       "0     0.286216  0.709836       0.580530       0.223881  0.118600  0.523734   \n",
       "1     0.118926  0.537101       0.536729       0.215690  0.093194  0.450500   \n",
       "2     0.403298  0.596048       0.620653       0.151056  0.048195  0.454771   \n",
       "\n",
       "   DiabetesPedigreeFunction       Age  Outcome  \n",
       "0                  0.201751  0.267786      1.0  \n",
       "1                  0.152104  0.075861      0.0  \n",
       "2                  0.144835  0.431818      0.0  "
      ]
     },
     "execution_count": 11,
     "metadata": {},
     "output_type": "execute_result"
    }
   ],
   "source": [
    "cents = pd.DataFrame(columns=diabetescol,data=sometup[1])\n",
    "cents.head()"
   ]
  },
  {
   "cell_type": "code",
   "execution_count": 13,
   "metadata": {},
   "outputs": [
    {
     "name": "stdout",
     "output_type": "stream",
     "text": [
      "   Pregnancies   Glucose  BloodPressure  SkinThickness   Insulin       BMI  \\\n",
      "0     0.286216  0.709836       0.580530       0.223881  0.118600  0.523734   \n",
      "1     0.118926  0.537101       0.536729       0.215690  0.093194  0.450500   \n",
      "2     0.403298  0.596048       0.620653       0.151056  0.048195  0.454771   \n",
      "\n",
      "   DiabetesPedigreeFunction       Age  Outcome  color  \n",
      "0                  0.201751  0.267786      1.0      1  \n",
      "1                  0.152104  0.075861      0.0      2  \n",
      "2                  0.144835  0.431818      0.0      3  \n"
     ]
    },
    {
     "data": {
      "text/plain": [
       "<matplotlib.axes._subplots.AxesSubplot at 0x2348383af98>"
      ]
     },
     "execution_count": 13,
     "metadata": {},
     "output_type": "execute_result"
    },
    {
     "data": {
      "image/png": "[encoded data removed]",
      "text/plain": [
       "<Figure size 432x288 with 2 Axes>"
      ]
     },
     "metadata": {},
     "output_type": "display_data"
    }
   ],
   "source": [
    "cents['color']=[1,2,3]\n",
    "print(cents.head())\n",
    "cents.plot.scatter(x='Age', y='DiabetesPedigreeFunction', c='color')"
   ]
  },
  {
   "cell_type": "markdown",
   "metadata": {},
   "source": [
    "## Mushrooms"
   ]
  },
  {
   "cell_type": "code",
   "execution_count": null,
   "metadata": {},
   "outputs": [],
   "source": [
    "#Import dataset\n",
    "diabetes=pd.read_csv('../data/external/diabetes.csv')\n",
    "diabetes.head()"
   ]
  }
 ],
 "metadata": {
  "kernelspec": {
   "display_name": "Python 3",
   "language": "python",
   "name": "python3"
  },
  "language_info": {
   "codemirror_mode": {
    "name": "ipython",
    "version": 3
   },
   "file_extension": ".py",
   "mimetype": "text/x-python",
   "name": "python",
   "nbconvert_exporter": "python",
   "pygments_lexer": "ipython3",
   "version": "3.6.5"
  }
 },
 "nbformat": 4,
 "nbformat_minor": 2
}
